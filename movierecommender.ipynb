{
 "cells": [
  {
   "cell_type": "markdown",
   "id": "1d9a2b60",
   "metadata": {},
   "source": [
    "# Movie reviews"
   ]
  },
  {
   "cell_type": "code",
   "execution_count": 1,
   "id": "6f6ee66b",
   "metadata": {},
   "outputs": [],
   "source": [
    "# Basic Libraries\n",
    "import numpy as np\n",
    "import pandas as pd\n",
    "import seaborn as sb\n",
    "import matplotlib.pyplot as plt # we only need pyplot\n",
    "sb.set() # set the default Seaborn style for graphics\n",
    "\n",
    "from sklearn.feature_extraction.text import TfidfVectorizer\n",
    "from sklearn.metrics.pairwise import linear_kernel\n"
   ]
  },
  {
   "cell_type": "markdown",
   "id": "012c546c",
   "metadata": {},
   "source": [
    "#### general info about the movies"
   ]
  },
  {
   "cell_type": "code",
   "execution_count": 2,
   "id": "9d3f3d4c",
   "metadata": {},
   "outputs": [],
   "source": [
    "movies = pd.read_csv('rotten_tomatoes_movies.csv')"
   ]
  },
  {
   "cell_type": "code",
   "execution_count": 3,
   "id": "72d8f5f9",
   "metadata": {},
   "outputs": [
    {
     "name": "stdout",
     "output_type": "stream",
     "text": [
      "Data type :  <class 'pandas.core.frame.DataFrame'>\n",
      "Data dims :  (17712, 22)\n"
     ]
    }
   ],
   "source": [
    "print(\"Data type : \", type(movies))\n",
    "print(\"Data dims : \", movies.shape)"
   ]
  },
  {
   "cell_type": "markdown",
   "id": "2e1c5207",
   "metadata": {},
   "source": [
    "#### Movie review by critics"
   ]
  },
  {
   "cell_type": "code",
   "execution_count": 6,
   "id": "131759c6",
   "metadata": {
    "scrolled": true
   },
   "outputs": [
    {
     "data": {
      "text/html": [
       "<div>\n",
       "<style scoped>\n",
       "    .dataframe tbody tr th:only-of-type {\n",
       "        vertical-align: middle;\n",
       "    }\n",
       "\n",
       "    .dataframe tbody tr th {\n",
       "        vertical-align: top;\n",
       "    }\n",
       "\n",
       "    .dataframe thead th {\n",
       "        text-align: right;\n",
       "    }\n",
       "</style>\n",
       "<table border=\"1\" class=\"dataframe\">\n",
       "  <thead>\n",
       "    <tr style=\"text-align: right;\">\n",
       "      <th></th>\n",
       "      <th>rotten_tomatoes_link</th>\n",
       "      <th>movie_title</th>\n",
       "      <th>movie_info</th>\n",
       "      <th>critics_consensus</th>\n",
       "      <th>content_rating</th>\n",
       "      <th>genres</th>\n",
       "      <th>directors</th>\n",
       "      <th>authors</th>\n",
       "      <th>actors</th>\n",
       "      <th>original_release_date</th>\n",
       "      <th>...</th>\n",
       "      <th>production_company</th>\n",
       "      <th>tomatometer_status</th>\n",
       "      <th>tomatometer_rating</th>\n",
       "      <th>tomatometer_count</th>\n",
       "      <th>audience_status</th>\n",
       "      <th>audience_rating</th>\n",
       "      <th>audience_count</th>\n",
       "      <th>tomatometer_top_critics_count</th>\n",
       "      <th>tomatometer_fresh_critics_count</th>\n",
       "      <th>tomatometer_rotten_critics_count</th>\n",
       "    </tr>\n",
       "  </thead>\n",
       "  <tbody>\n",
       "    <tr>\n",
       "      <th>0</th>\n",
       "      <td>m/0814255</td>\n",
       "      <td>Percy Jackson &amp; the Olympians: The Lightning T...</td>\n",
       "      <td>Always trouble-prone, the life of teenager Per...</td>\n",
       "      <td>Though it may seem like just another Harry Pot...</td>\n",
       "      <td>PG</td>\n",
       "      <td>Action &amp; Adventure, Comedy, Drama, Science Fic...</td>\n",
       "      <td>Chris Columbus</td>\n",
       "      <td>Craig Titley, Chris Columbus, Rick Riordan</td>\n",
       "      <td>Logan Lerman, Brandon T. Jackson, Alexandra Da...</td>\n",
       "      <td>2010-02-12</td>\n",
       "      <td>...</td>\n",
       "      <td>20th Century Fox</td>\n",
       "      <td>Rotten</td>\n",
       "      <td>49.0</td>\n",
       "      <td>149.0</td>\n",
       "      <td>Spilled</td>\n",
       "      <td>53.0</td>\n",
       "      <td>254421.0</td>\n",
       "      <td>43</td>\n",
       "      <td>73</td>\n",
       "      <td>76</td>\n",
       "    </tr>\n",
       "    <tr>\n",
       "      <th>1</th>\n",
       "      <td>m/0878835</td>\n",
       "      <td>Please Give</td>\n",
       "      <td>Kate (Catherine Keener) and her husband Alex (...</td>\n",
       "      <td>Nicole Holofcener's newest might seem slight i...</td>\n",
       "      <td>R</td>\n",
       "      <td>Comedy</td>\n",
       "      <td>Nicole Holofcener</td>\n",
       "      <td>Nicole Holofcener</td>\n",
       "      <td>Catherine Keener, Amanda Peet, Oliver Platt, R...</td>\n",
       "      <td>2010-04-30</td>\n",
       "      <td>...</td>\n",
       "      <td>Sony Pictures Classics</td>\n",
       "      <td>Certified-Fresh</td>\n",
       "      <td>87.0</td>\n",
       "      <td>142.0</td>\n",
       "      <td>Upright</td>\n",
       "      <td>64.0</td>\n",
       "      <td>11574.0</td>\n",
       "      <td>44</td>\n",
       "      <td>123</td>\n",
       "      <td>19</td>\n",
       "    </tr>\n",
       "    <tr>\n",
       "      <th>2</th>\n",
       "      <td>m/10</td>\n",
       "      <td>10</td>\n",
       "      <td>A successful, middle-aged Hollywood songwriter...</td>\n",
       "      <td>Blake Edwards' bawdy comedy may not score a pe...</td>\n",
       "      <td>R</td>\n",
       "      <td>Comedy, Romance</td>\n",
       "      <td>Blake Edwards</td>\n",
       "      <td>Blake Edwards</td>\n",
       "      <td>Dudley Moore, Bo Derek, Julie Andrews, Robert ...</td>\n",
       "      <td>1979-10-05</td>\n",
       "      <td>...</td>\n",
       "      <td>Waner Bros.</td>\n",
       "      <td>Fresh</td>\n",
       "      <td>67.0</td>\n",
       "      <td>24.0</td>\n",
       "      <td>Spilled</td>\n",
       "      <td>53.0</td>\n",
       "      <td>14684.0</td>\n",
       "      <td>2</td>\n",
       "      <td>16</td>\n",
       "      <td>8</td>\n",
       "    </tr>\n",
       "    <tr>\n",
       "      <th>3</th>\n",
       "      <td>m/1000013-12_angry_men</td>\n",
       "      <td>12 Angry Men (Twelve Angry Men)</td>\n",
       "      <td>Following the closing arguments in a murder tr...</td>\n",
       "      <td>Sidney Lumet's feature debut is a superbly wri...</td>\n",
       "      <td>NR</td>\n",
       "      <td>Classics, Drama</td>\n",
       "      <td>Sidney Lumet</td>\n",
       "      <td>Reginald Rose</td>\n",
       "      <td>Martin Balsam, John Fiedler, Lee J. Cobb, E.G....</td>\n",
       "      <td>1957-04-13</td>\n",
       "      <td>...</td>\n",
       "      <td>Criterion Collection</td>\n",
       "      <td>Certified-Fresh</td>\n",
       "      <td>100.0</td>\n",
       "      <td>54.0</td>\n",
       "      <td>Upright</td>\n",
       "      <td>97.0</td>\n",
       "      <td>105386.0</td>\n",
       "      <td>6</td>\n",
       "      <td>54</td>\n",
       "      <td>0</td>\n",
       "    </tr>\n",
       "    <tr>\n",
       "      <th>4</th>\n",
       "      <td>m/1000079-20000_leagues_under_the_sea</td>\n",
       "      <td>20,000 Leagues Under The Sea</td>\n",
       "      <td>In 1866, Professor Pierre M. Aronnax (Paul Luk...</td>\n",
       "      <td>One of Disney's finest live-action adventures,...</td>\n",
       "      <td>G</td>\n",
       "      <td>Action &amp; Adventure, Drama, Kids &amp; Family</td>\n",
       "      <td>Richard Fleischer</td>\n",
       "      <td>Earl Felton</td>\n",
       "      <td>James Mason, Kirk Douglas, Paul Lukas, Peter L...</td>\n",
       "      <td>1954-01-01</td>\n",
       "      <td>...</td>\n",
       "      <td>Disney</td>\n",
       "      <td>Fresh</td>\n",
       "      <td>89.0</td>\n",
       "      <td>27.0</td>\n",
       "      <td>Upright</td>\n",
       "      <td>74.0</td>\n",
       "      <td>68918.0</td>\n",
       "      <td>5</td>\n",
       "      <td>24</td>\n",
       "      <td>3</td>\n",
       "    </tr>\n",
       "  </tbody>\n",
       "</table>\n",
       "<p>5 rows × 22 columns</p>\n",
       "</div>"
      ],
      "text/plain": [
       "                    rotten_tomatoes_link  \\\n",
       "0                              m/0814255   \n",
       "1                              m/0878835   \n",
       "2                                   m/10   \n",
       "3                 m/1000013-12_angry_men   \n",
       "4  m/1000079-20000_leagues_under_the_sea   \n",
       "\n",
       "                                         movie_title  \\\n",
       "0  Percy Jackson & the Olympians: The Lightning T...   \n",
       "1                                        Please Give   \n",
       "2                                                 10   \n",
       "3                    12 Angry Men (Twelve Angry Men)   \n",
       "4                       20,000 Leagues Under The Sea   \n",
       "\n",
       "                                          movie_info  \\\n",
       "0  Always trouble-prone, the life of teenager Per...   \n",
       "1  Kate (Catherine Keener) and her husband Alex (...   \n",
       "2  A successful, middle-aged Hollywood songwriter...   \n",
       "3  Following the closing arguments in a murder tr...   \n",
       "4  In 1866, Professor Pierre M. Aronnax (Paul Luk...   \n",
       "\n",
       "                                   critics_consensus content_rating  \\\n",
       "0  Though it may seem like just another Harry Pot...             PG   \n",
       "1  Nicole Holofcener's newest might seem slight i...              R   \n",
       "2  Blake Edwards' bawdy comedy may not score a pe...              R   \n",
       "3  Sidney Lumet's feature debut is a superbly wri...             NR   \n",
       "4  One of Disney's finest live-action adventures,...              G   \n",
       "\n",
       "                                              genres          directors  \\\n",
       "0  Action & Adventure, Comedy, Drama, Science Fic...     Chris Columbus   \n",
       "1                                             Comedy  Nicole Holofcener   \n",
       "2                                    Comedy, Romance      Blake Edwards   \n",
       "3                                    Classics, Drama       Sidney Lumet   \n",
       "4           Action & Adventure, Drama, Kids & Family  Richard Fleischer   \n",
       "\n",
       "                                      authors  \\\n",
       "0  Craig Titley, Chris Columbus, Rick Riordan   \n",
       "1                           Nicole Holofcener   \n",
       "2                               Blake Edwards   \n",
       "3                               Reginald Rose   \n",
       "4                                 Earl Felton   \n",
       "\n",
       "                                              actors original_release_date  \\\n",
       "0  Logan Lerman, Brandon T. Jackson, Alexandra Da...            2010-02-12   \n",
       "1  Catherine Keener, Amanda Peet, Oliver Platt, R...            2010-04-30   \n",
       "2  Dudley Moore, Bo Derek, Julie Andrews, Robert ...            1979-10-05   \n",
       "3  Martin Balsam, John Fiedler, Lee J. Cobb, E.G....            1957-04-13   \n",
       "4  James Mason, Kirk Douglas, Paul Lukas, Peter L...            1954-01-01   \n",
       "\n",
       "   ...      production_company  tomatometer_status tomatometer_rating  \\\n",
       "0  ...        20th Century Fox              Rotten               49.0   \n",
       "1  ...  Sony Pictures Classics     Certified-Fresh               87.0   \n",
       "2  ...             Waner Bros.               Fresh               67.0   \n",
       "3  ...    Criterion Collection     Certified-Fresh              100.0   \n",
       "4  ...                  Disney               Fresh               89.0   \n",
       "\n",
       "  tomatometer_count  audience_status  audience_rating audience_count  \\\n",
       "0             149.0          Spilled             53.0       254421.0   \n",
       "1             142.0          Upright             64.0        11574.0   \n",
       "2              24.0          Spilled             53.0        14684.0   \n",
       "3              54.0          Upright             97.0       105386.0   \n",
       "4              27.0          Upright             74.0        68918.0   \n",
       "\n",
       "   tomatometer_top_critics_count  tomatometer_fresh_critics_count  \\\n",
       "0                             43                               73   \n",
       "1                             44                              123   \n",
       "2                              2                               16   \n",
       "3                              6                               54   \n",
       "4                              5                               24   \n",
       "\n",
       "   tomatometer_rotten_critics_count  \n",
       "0                                76  \n",
       "1                                19  \n",
       "2                                 8  \n",
       "3                                 0  \n",
       "4                                 3  \n",
       "\n",
       "[5 rows x 22 columns]"
      ]
     },
     "execution_count": 6,
     "metadata": {},
     "output_type": "execute_result"
    }
   ],
   "source": [
    "movies.head(5)\n",
    "#reviews.head(10)"
   ]
  },
  {
   "cell_type": "code",
   "execution_count": null,
   "id": "ff2566cf",
   "metadata": {},
   "outputs": [],
   "source": []
  },
  {
   "cell_type": "markdown",
   "id": "02b6dde4",
   "metadata": {},
   "source": [
    "Description of the rotten_tomatoes_movies ,from rotten_tomato_1960_2020 dataset found from kaggle\n",
    "\n",
    "> **rotten_tomatoes_link** : link for movies from the website  \n",
    "> **movie_title** : Name of the movie  \n",
    "> **movie_info** : Sypnosis of the movie  \n",
    "> **critics_consensus** : comments from Rotten Tomatoes  \n",
    "> **content_rating** : category based on the movie suitability for audience  \n",
    "> **genres** : movie genres separated by commes, if multiple  \n",
    "> **directors** : name of director(s)  \n",
    "> **authors** : name of author(s)  \n",
    "> **actors** : name of actors  \n",
    "> **original_release_date** : date in which the movie has been released  \n",
    "> **streaming_release_date** : date in which the movie has been released for streaming   \n",
    "> **runtime** : movie runtume (in minutes)  \n",
    "> **production_company** : name of the production company  \n",
    "> **tomatometer_status** : tomatometer value of \"Rotten\" (less than 60% positive reviews), \"Fresh\" (at least 60% of positive reviews), and \"Certified-Fresh\" (at least 75% of positive reviews)  \n",
    "> **tomatometer_rating** : percentage of positive critic ratings  \n",
    "> **tomatometer_count** : critic ratings counted for the calculation of the tomatomer status  \n",
    "> **audience_status** : audience value of \"Spilled\" (less than 60% of users gave a rating of at least 3.5) or \"Upright\" (at least 60% of users gave a rating of at least 3.5)  \n",
    "> **audience_rating** : percentage of positive user ratings  \n",
    "> **audience_count** : user ratings counted for the calculation of the audience status  \n",
    "> **tomatometer_top_critics_count** : count of top critic ratings  \n",
    "> **tomatometer_fresh_critics_count** : count of fresh critic ratings  \n",
    "> **tomatometer_rotten_critics_count** : count of rotten critic ratings  \n",
    "---\n"
   ]
  },
  {
   "cell_type": "markdown",
   "id": "991b226d",
   "metadata": {},
   "source": [
    "## We aim to categorise movies based on similarities between their sypnosis (movie_info), and then recommend movies similar to those the user likes"
   ]
  },
  {
   "cell_type": "markdown",
   "id": "791583c4",
   "metadata": {},
   "source": [
    "# Cleaning the Datasets"
   ]
  },
  {
   "cell_type": "markdown",
   "id": "2276247c",
   "metadata": {},
   "source": [
    "#### To see if there are any movies without 'movie_info'"
   ]
  },
  {
   "cell_type": "code",
   "execution_count": 7,
   "id": "a5504ca8",
   "metadata": {
    "scrolled": false
   },
   "outputs": [
    {
     "name": "stdout",
     "output_type": "stream",
     "text": [
      "<class 'pandas.core.frame.DataFrame'>\n",
      "RangeIndex: 17712 entries, 0 to 17711\n",
      "Data columns (total 22 columns):\n",
      " #   Column                            Non-Null Count  Dtype  \n",
      "---  ------                            --------------  -----  \n",
      " 0   rotten_tomatoes_link              17712 non-null  object \n",
      " 1   movie_title                       17712 non-null  object \n",
      " 2   movie_info                        17391 non-null  object \n",
      " 3   critics_consensus                 9134 non-null   object \n",
      " 4   content_rating                    17712 non-null  object \n",
      " 5   genres                            17693 non-null  object \n",
      " 6   directors                         17518 non-null  object \n",
      " 7   authors                           16170 non-null  object \n",
      " 8   actors                            17360 non-null  object \n",
      " 9   original_release_date             16546 non-null  object \n",
      " 10  streaming_release_date            17328 non-null  object \n",
      " 11  runtime                           17398 non-null  float64\n",
      " 12  production_company                17213 non-null  object \n",
      " 13  tomatometer_status                17668 non-null  object \n",
      " 14  tomatometer_rating                17668 non-null  float64\n",
      " 15  tomatometer_count                 17668 non-null  float64\n",
      " 16  audience_status                   17264 non-null  object \n",
      " 17  audience_rating                   17416 non-null  float64\n",
      " 18  audience_count                    17415 non-null  float64\n",
      " 19  tomatometer_top_critics_count     17712 non-null  int64  \n",
      " 20  tomatometer_fresh_critics_count   17712 non-null  int64  \n",
      " 21  tomatometer_rotten_critics_count  17712 non-null  int64  \n",
      "dtypes: float64(5), int64(3), object(14)\n",
      "memory usage: 3.0+ MB\n"
     ]
    }
   ],
   "source": [
    "movies.info()"
   ]
  },
  {
   "cell_type": "markdown",
   "id": "037d434c",
   "metadata": {},
   "source": [
    "#### We can see that there are movies without 'movie_info', we will drop these rows from the dataframe"
   ]
  },
  {
   "cell_type": "code",
   "execution_count": 8,
   "id": "f1760b8b",
   "metadata": {},
   "outputs": [],
   "source": [
    "#movies = movies[movies['movie_info'].notnull()]\n",
    "movies = movies[['movie_title','movie_info','actors','genres','directors','authors']]\n",
    "movies = movies.dropna(subset=['movie_info'])"
   ]
  },
  {
   "cell_type": "code",
   "execution_count": 9,
   "id": "44b5fd76",
   "metadata": {},
   "outputs": [
    {
     "name": "stdout",
     "output_type": "stream",
     "text": [
      "<class 'pandas.core.frame.DataFrame'>\n",
      "Int64Index: 17391 entries, 0 to 17711\n",
      "Data columns (total 6 columns):\n",
      " #   Column       Non-Null Count  Dtype \n",
      "---  ------       --------------  ----- \n",
      " 0   movie_title  17391 non-null  object\n",
      " 1   movie_info   17391 non-null  object\n",
      " 2   actors       17062 non-null  object\n",
      " 3   genres       17372 non-null  object\n",
      " 4   directors    17211 non-null  object\n",
      " 5   authors      15945 non-null  object\n",
      "dtypes: object(6)\n",
      "memory usage: 951.1+ KB\n"
     ]
    }
   ],
   "source": [
    "movies.info()"
   ]
  },
  {
   "cell_type": "markdown",
   "id": "0e4f6989",
   "metadata": {
    "scrolled": true
   },
   "source": [
    "## Recommender based on plot similarities"
   ]
  },
  {
   "cell_type": "code",
   "execution_count": 11,
   "id": "01c58873",
   "metadata": {
    "scrolled": true
   },
   "outputs": [
    {
     "data": {
      "text/plain": [
       "0    Always trouble-prone, the life of teenager Per...\n",
       "1    Kate (Catherine Keener) and her husband Alex (...\n",
       "2    A successful, middle-aged Hollywood songwriter...\n",
       "3    Following the closing arguments in a murder tr...\n",
       "4    In 1866, Professor Pierre M. Aronnax (Paul Luk...\n",
       "Name: movie_info, dtype: object"
      ]
     },
     "execution_count": 11,
     "metadata": {},
     "output_type": "execute_result"
    }
   ],
   "source": [
    "movies['movie_info'].head()"
   ]
  },
  {
   "cell_type": "markdown",
   "id": "6e5ba986",
   "metadata": {},
   "source": [
    "## Natural Language Processing"
   ]
  },
  {
   "cell_type": "markdown",
   "id": "a253385c",
   "metadata": {},
   "source": [
    "#### Step 1: remove stop words such as 'the' and 'an' etc to create Term Frequence - Inverse Document Frequency(TF-IDF) matrix\n",
    "info: it can be seen that there are 43567 different vocabularies from 45000 movies"
   ]
  },
  {
   "cell_type": "code",
   "execution_count": 12,
   "id": "c880ca3e",
   "metadata": {},
   "outputs": [
    {
     "data": {
      "text/plain": [
       "(17391, 43567)"
      ]
     },
     "execution_count": 12,
     "metadata": {},
     "output_type": "execute_result"
    }
   ],
   "source": [
    "tfidf = TfidfVectorizer(stop_words='english')\n",
    "tfidf_matrix = tfidf.fit_transform(movies['movie_info'])\n",
    "tfidf_matrix.shape\n"
   ]
  },
  {
   "cell_type": "code",
   "execution_count": 13,
   "id": "31613301",
   "metadata": {
    "scrolled": true
   },
   "outputs": [
    {
     "data": {
      "text/plain": [
       "array(['aella', 'aeon', 'aereon', 'aerial', 'aerialist', 'aerobics',\n",
       "       'aeronaut', 'aeronautics', 'aerosmith', 'aerospace', 'aesthetic',\n",
       "       'aether', 'af', 'afar', 'afemo', 'affable', 'affair', 'affairs',\n",
       "       'affect', 'affectations'], dtype=object)"
      ]
     },
     "execution_count": 13,
     "metadata": {},
     "output_type": "execute_result"
    }
   ],
   "source": [
    "tfidf.get_feature_names_out()[1000:1020]"
   ]
  },
  {
   "cell_type": "markdown",
   "id": "ead377a9",
   "metadata": {},
   "source": [
    "#### Step 2: Use cosine similarity to calculate a numeric quantity that denotes similarity between 2 movies\n",
    "\n",
    "info: each movie will be a 1x17712 column vector where each column will be a similarity score with each movie."
   ]
  },
  {
   "cell_type": "code",
   "execution_count": 14,
   "id": "2c095ebc",
   "metadata": {},
   "outputs": [],
   "source": [
    "cosine_sim = linear_kernel(tfidf_matrix, tfidf_matrix)"
   ]
  },
  {
   "cell_type": "code",
   "execution_count": 15,
   "id": "6c6d0c3b",
   "metadata": {},
   "outputs": [
    {
     "data": {
      "text/plain": [
       "(17391, 17391)"
      ]
     },
     "execution_count": 15,
     "metadata": {},
     "output_type": "execute_result"
    }
   ],
   "source": [
    "cosine_sim.shape"
   ]
  },
  {
   "cell_type": "markdown",
   "id": "ec0a438b",
   "metadata": {},
   "source": [
    "info: movies have a similarity of 1 to itself"
   ]
  },
  {
   "cell_type": "code",
   "execution_count": 16,
   "id": "4e6781a7",
   "metadata": {},
   "outputs": [
    {
     "data": {
      "text/plain": [
       "array([0.        , 1.        , 0.05157674, ..., 0.01456716, 0.        ,\n",
       "       0.        ])"
      ]
     },
     "execution_count": 16,
     "metadata": {},
     "output_type": "execute_result"
    }
   ],
   "source": [
    "cosine_sim[1]"
   ]
  },
  {
   "cell_type": "markdown",
   "id": "7e5d51e3",
   "metadata": {},
   "source": [
    "#### step 3: a function that takes input 'movie_title' and outputs a list of 10 most similar movies\n",
    "\n",
    "info: reverse map of indices and movie titles"
   ]
  },
  {
   "cell_type": "code",
   "execution_count": 17,
   "id": "9e3f046e",
   "metadata": {},
   "outputs": [],
   "source": [
    "index = pd.Series(movies.index, index=movies['movie_title']).drop_duplicates()"
   ]
  },
  {
   "cell_type": "code",
   "execution_count": 18,
   "id": "3ef5d2ad",
   "metadata": {},
   "outputs": [
    {
     "data": {
      "text/plain": [
       "movie_title\n",
       "Percy Jackson & the Olympians: The Lightning Thief    0\n",
       "Please Give                                           1\n",
       "10                                                    2\n",
       "12 Angry Men (Twelve Angry Men)                       3\n",
       "20,000 Leagues Under The Sea                          4\n",
       "10,000 B.C.                                           5\n",
       "The 39 Steps                                          6\n",
       "3:10 to Yuma                                          7\n",
       "Charly (A Heartbeat Away)                             8\n",
       "Abraham Lincoln                                       9\n",
       "dtype: int64"
      ]
     },
     "execution_count": 18,
     "metadata": {},
     "output_type": "execute_result"
    }
   ],
   "source": [
    "index[:10]"
   ]
  },
  {
   "cell_type": "markdown",
   "id": "79f47519",
   "metadata": {},
   "source": [
    "info: the recommendation function"
   ]
  },
  {
   "cell_type": "code",
   "execution_count": 19,
   "id": "2c24b947",
   "metadata": {},
   "outputs": [],
   "source": [
    "def recommendations(title, cosine_sim=cosine_sim):\n",
    "    idx = index[title]\n",
    "    similarity = list(enumerate(cosine_sim[idx]))\n",
    "    similarity = sorted(similarity, key=lambda x: x[1], reverse=True)\n",
    "    similarity = similarity[1:11]\n",
    "    # given movie is removed from the list\n",
    "    movie_index = [i[0] for i in similarity]\n",
    "    return movies['movie_title'].iloc[movie_index]"
   ]
  },
  {
   "cell_type": "code",
   "execution_count": 20,
   "id": "b63d5b59",
   "metadata": {},
   "outputs": [
    {
     "data": {
      "text/plain": [
       "2034     71 Fragmente einer Chronologie des Zufalls (71...\n",
       "14556                                             Bastards\n",
       "9810                                             Love Liza\n",
       "7463                        The Happiness of the Katakuris\n",
       "4242                                 Camille Claudel, 1915\n",
       "3663                                            Black Pond\n",
       "16378                                     Tortoise In Love\n",
       "14186                           Sympathy for Mr. Vengeance\n",
       "10619                                              mother!\n",
       "5301                                  Death and the Maiden\n",
       "Name: movie_title, dtype: object"
      ]
     },
     "execution_count": 20,
     "metadata": {},
     "output_type": "execute_result"
    }
   ],
   "source": [
    "recommendations('The Lord of the Rings: The Fellowship of the Ring')\n",
    "#movie reccomendations based on a movie"
   ]
  },
  {
   "cell_type": "markdown",
   "id": "c939aaa6",
   "metadata": {},
   "source": [
    "### In the above section, we only used one factor to provide recommendations. The recommendations provided can be improved if we make better use of the data we have, by utilising more of the data for example, using members of the cast, genres as well as the director. "
   ]
  },
  {
   "cell_type": "markdown",
   "id": "bc17ca34",
   "metadata": {},
   "source": [
    "#### step 4: identify the parameters the reccomedation can be improved by"
   ]
  },
  {
   "cell_type": "code",
   "execution_count": 21,
   "id": "e1128ca1",
   "metadata": {
    "scrolled": true
   },
   "outputs": [
    {
     "data": {
      "text/html": [
       "<div>\n",
       "<style scoped>\n",
       "    .dataframe tbody tr th:only-of-type {\n",
       "        vertical-align: middle;\n",
       "    }\n",
       "\n",
       "    .dataframe tbody tr th {\n",
       "        vertical-align: top;\n",
       "    }\n",
       "\n",
       "    .dataframe thead th {\n",
       "        text-align: right;\n",
       "    }\n",
       "</style>\n",
       "<table border=\"1\" class=\"dataframe\">\n",
       "  <thead>\n",
       "    <tr style=\"text-align: right;\">\n",
       "      <th></th>\n",
       "      <th>movie_title</th>\n",
       "      <th>actors</th>\n",
       "      <th>genres</th>\n",
       "      <th>directors</th>\n",
       "      <th>authors</th>\n",
       "    </tr>\n",
       "  </thead>\n",
       "  <tbody>\n",
       "    <tr>\n",
       "      <th>0</th>\n",
       "      <td>Percy Jackson &amp; the Olympians: The Lightning T...</td>\n",
       "      <td>Logan Lerman, Brandon T. Jackson, Alexandra Da...</td>\n",
       "      <td>Action &amp; Adventure, Comedy, Drama, Science Fic...</td>\n",
       "      <td>Chris Columbus</td>\n",
       "      <td>Craig Titley, Chris Columbus, Rick Riordan</td>\n",
       "    </tr>\n",
       "    <tr>\n",
       "      <th>1</th>\n",
       "      <td>Please Give</td>\n",
       "      <td>Catherine Keener, Amanda Peet, Oliver Platt, R...</td>\n",
       "      <td>Comedy</td>\n",
       "      <td>Nicole Holofcener</td>\n",
       "      <td>Nicole Holofcener</td>\n",
       "    </tr>\n",
       "    <tr>\n",
       "      <th>2</th>\n",
       "      <td>10</td>\n",
       "      <td>Dudley Moore, Bo Derek, Julie Andrews, Robert ...</td>\n",
       "      <td>Comedy, Romance</td>\n",
       "      <td>Blake Edwards</td>\n",
       "      <td>Blake Edwards</td>\n",
       "    </tr>\n",
       "    <tr>\n",
       "      <th>3</th>\n",
       "      <td>12 Angry Men (Twelve Angry Men)</td>\n",
       "      <td>Martin Balsam, John Fiedler, Lee J. Cobb, E.G....</td>\n",
       "      <td>Classics, Drama</td>\n",
       "      <td>Sidney Lumet</td>\n",
       "      <td>Reginald Rose</td>\n",
       "    </tr>\n",
       "    <tr>\n",
       "      <th>4</th>\n",
       "      <td>20,000 Leagues Under The Sea</td>\n",
       "      <td>James Mason, Kirk Douglas, Paul Lukas, Peter L...</td>\n",
       "      <td>Action &amp; Adventure, Drama, Kids &amp; Family</td>\n",
       "      <td>Richard Fleischer</td>\n",
       "      <td>Earl Felton</td>\n",
       "    </tr>\n",
       "  </tbody>\n",
       "</table>\n",
       "</div>"
      ],
      "text/plain": [
       "                                         movie_title  \\\n",
       "0  Percy Jackson & the Olympians: The Lightning T...   \n",
       "1                                        Please Give   \n",
       "2                                                 10   \n",
       "3                    12 Angry Men (Twelve Angry Men)   \n",
       "4                       20,000 Leagues Under The Sea   \n",
       "\n",
       "                                              actors  \\\n",
       "0  Logan Lerman, Brandon T. Jackson, Alexandra Da...   \n",
       "1  Catherine Keener, Amanda Peet, Oliver Platt, R...   \n",
       "2  Dudley Moore, Bo Derek, Julie Andrews, Robert ...   \n",
       "3  Martin Balsam, John Fiedler, Lee J. Cobb, E.G....   \n",
       "4  James Mason, Kirk Douglas, Paul Lukas, Peter L...   \n",
       "\n",
       "                                              genres          directors  \\\n",
       "0  Action & Adventure, Comedy, Drama, Science Fic...     Chris Columbus   \n",
       "1                                             Comedy  Nicole Holofcener   \n",
       "2                                    Comedy, Romance      Blake Edwards   \n",
       "3                                    Classics, Drama       Sidney Lumet   \n",
       "4           Action & Adventure, Drama, Kids & Family  Richard Fleischer   \n",
       "\n",
       "                                      authors  \n",
       "0  Craig Titley, Chris Columbus, Rick Riordan  \n",
       "1                           Nicole Holofcener  \n",
       "2                               Blake Edwards  \n",
       "3                               Reginald Rose  \n",
       "4                                 Earl Felton  "
      ]
     },
     "execution_count": 21,
     "metadata": {},
     "output_type": "execute_result"
    }
   ],
   "source": [
    "features = movies[['movie_title','actors','genres','directors','authors']]\n",
    "features.head(5)"
   ]
  },
  {
   "cell_type": "markdown",
   "id": "df6b40c7",
   "metadata": {},
   "source": [
    "Info: a function to convert all strings to lower case and strip names of spaces"
   ]
  },
  {
   "cell_type": "code",
   "execution_count": 22,
   "id": "38c2e7b4",
   "metadata": {},
   "outputs": [],
   "source": [
    "def clean_data(x):\n",
    "    if isinstance(x, list):\n",
    "        return [str.lower(i.replace(\" \", \"\")) for i in x]\n",
    "    else:\n",
    "        #Check if director exists. If not, return empty string\n",
    "        if isinstance(x, str):\n",
    "            return str.lower(x.replace(\" \", \"\"))\n",
    "        else:\n",
    "            return ''"
   ]
  },
  {
   "cell_type": "code",
   "execution_count": 38,
   "id": "2866540f",
   "metadata": {
    "scrolled": true
   },
   "outputs": [
    {
     "data": {
      "text/html": [
       "<div>\n",
       "<style scoped>\n",
       "    .dataframe tbody tr th:only-of-type {\n",
       "        vertical-align: middle;\n",
       "    }\n",
       "\n",
       "    .dataframe tbody tr th {\n",
       "        vertical-align: top;\n",
       "    }\n",
       "\n",
       "    .dataframe thead th {\n",
       "        text-align: right;\n",
       "    }\n",
       "</style>\n",
       "<table border=\"1\" class=\"dataframe\">\n",
       "  <thead>\n",
       "    <tr style=\"text-align: right;\">\n",
       "      <th></th>\n",
       "      <th>movie_title</th>\n",
       "      <th>actors</th>\n",
       "      <th>genres</th>\n",
       "      <th>directors</th>\n",
       "      <th>authors</th>\n",
       "    </tr>\n",
       "  </thead>\n",
       "  <tbody>\n",
       "    <tr>\n",
       "      <th>0</th>\n",
       "      <td>Percy Jackson &amp; the Olympians: The Lightning T...</td>\n",
       "      <td>loganlerman,brandont.jackson,alexandradaddario...</td>\n",
       "      <td>action&amp;adventure,comedy,drama,sciencefiction&amp;f...</td>\n",
       "      <td>chriscolumbus</td>\n",
       "      <td>craigtitley,chriscolumbus,rickriordan</td>\n",
       "    </tr>\n",
       "    <tr>\n",
       "      <th>1</th>\n",
       "      <td>Please Give</td>\n",
       "      <td>catherinekeener,amandapeet,oliverplatt,rebecca...</td>\n",
       "      <td>comedy</td>\n",
       "      <td>nicoleholofcener</td>\n",
       "      <td>nicoleholofcener</td>\n",
       "    </tr>\n",
       "    <tr>\n",
       "      <th>2</th>\n",
       "      <td>10</td>\n",
       "      <td>dudleymoore,boderek,julieandrews,robertwebber,...</td>\n",
       "      <td>comedy,romance</td>\n",
       "      <td>blakeedwards</td>\n",
       "      <td>blakeedwards</td>\n",
       "    </tr>\n",
       "    <tr>\n",
       "      <th>3</th>\n",
       "      <td>12 Angry Men (Twelve Angry Men)</td>\n",
       "      <td>martinbalsam,johnfiedler,leej.cobb,e.g.marshal...</td>\n",
       "      <td>classics,drama</td>\n",
       "      <td>sidneylumet</td>\n",
       "      <td>reginaldrose</td>\n",
       "    </tr>\n",
       "    <tr>\n",
       "      <th>4</th>\n",
       "      <td>20,000 Leagues Under The Sea</td>\n",
       "      <td>jamesmason,kirkdouglas,paullukas,peterlorre,ro...</td>\n",
       "      <td>action&amp;adventure,drama,kids&amp;family</td>\n",
       "      <td>richardfleischer</td>\n",
       "      <td>earlfelton</td>\n",
       "    </tr>\n",
       "  </tbody>\n",
       "</table>\n",
       "</div>"
      ],
      "text/plain": [
       "                                         movie_title  \\\n",
       "0  Percy Jackson & the Olympians: The Lightning T...   \n",
       "1                                        Please Give   \n",
       "2                                                 10   \n",
       "3                    12 Angry Men (Twelve Angry Men)   \n",
       "4                       20,000 Leagues Under The Sea   \n",
       "\n",
       "                                              actors  \\\n",
       "0  loganlerman,brandont.jackson,alexandradaddario...   \n",
       "1  catherinekeener,amandapeet,oliverplatt,rebecca...   \n",
       "2  dudleymoore,boderek,julieandrews,robertwebber,...   \n",
       "3  martinbalsam,johnfiedler,leej.cobb,e.g.marshal...   \n",
       "4  jamesmason,kirkdouglas,paullukas,peterlorre,ro...   \n",
       "\n",
       "                                              genres         directors  \\\n",
       "0  action&adventure,comedy,drama,sciencefiction&f...     chriscolumbus   \n",
       "1                                             comedy  nicoleholofcener   \n",
       "2                                     comedy,romance      blakeedwards   \n",
       "3                                     classics,drama       sidneylumet   \n",
       "4                 action&adventure,drama,kids&family  richardfleischer   \n",
       "\n",
       "                                 authors  \n",
       "0  craigtitley,chriscolumbus,rickriordan  \n",
       "1                       nicoleholofcener  \n",
       "2                           blakeedwards  \n",
       "3                           reginaldrose  \n",
       "4                             earlfelton  "
      ]
     },
     "execution_count": 38,
     "metadata": {},
     "output_type": "execute_result"
    }
   ],
   "source": [
    "features = ['actors','genres','directors','authors']\n",
    "\n",
    "for feature in features:\n",
    "    movies[feature] = movies[feature].apply(clean_data)\n",
    "\n",
    "features = movies[['movie_title','actors','genres','directors','authors']]    \n",
    "features.head(5)"
   ]
  },
  {
   "cell_type": "markdown",
   "id": "de2f0831",
   "metadata": {},
   "source": [
    "#### Step 5: The create soup function.\n",
    "Info: The create_soup function will simply join all the required columns by a space. This is the final preprocessing step, and the output of this function will be fed into the word vector model."
   ]
  },
  {
   "cell_type": "code",
   "execution_count": 24,
   "id": "15326970",
   "metadata": {},
   "outputs": [],
   "source": [
    "def create_soup(x):\n",
    "    return x['directors'] + ' ' + x['actors'] + ' ' + x['genres'] + ' ' + x['authors']"
   ]
  },
  {
   "cell_type": "code",
   "execution_count": 25,
   "id": "a1c87409",
   "metadata": {},
   "outputs": [],
   "source": [
    "movies['soup'] = movies.apply(create_soup, axis=1)"
   ]
  },
  {
   "cell_type": "code",
   "execution_count": 26,
   "id": "3ba9cb95",
   "metadata": {},
   "outputs": [
    {
     "data": {
      "text/html": [
       "<div>\n",
       "<style scoped>\n",
       "    .dataframe tbody tr th:only-of-type {\n",
       "        vertical-align: middle;\n",
       "    }\n",
       "\n",
       "    .dataframe tbody tr th {\n",
       "        vertical-align: top;\n",
       "    }\n",
       "\n",
       "    .dataframe thead th {\n",
       "        text-align: right;\n",
       "    }\n",
       "</style>\n",
       "<table border=\"1\" class=\"dataframe\">\n",
       "  <thead>\n",
       "    <tr style=\"text-align: right;\">\n",
       "      <th></th>\n",
       "      <th>soup</th>\n",
       "    </tr>\n",
       "  </thead>\n",
       "  <tbody>\n",
       "    <tr>\n",
       "      <th>0</th>\n",
       "      <td>chriscolumbus loganlerman,brandont.jackson,ale...</td>\n",
       "    </tr>\n",
       "    <tr>\n",
       "      <th>1</th>\n",
       "      <td>nicoleholofcener catherinekeener,amandapeet,ol...</td>\n",
       "    </tr>\n",
       "    <tr>\n",
       "      <th>2</th>\n",
       "      <td>blakeedwards dudleymoore,boderek,julieandrews,...</td>\n",
       "    </tr>\n",
       "    <tr>\n",
       "      <th>3</th>\n",
       "      <td>sidneylumet martinbalsam,johnfiedler,leej.cobb...</td>\n",
       "    </tr>\n",
       "    <tr>\n",
       "      <th>4</th>\n",
       "      <td>richardfleischer jamesmason,kirkdouglas,paullu...</td>\n",
       "    </tr>\n",
       "    <tr>\n",
       "      <th>5</th>\n",
       "      <td>rolandemmerich stevenstrait,camillabelle,cliff...</td>\n",
       "    </tr>\n",
       "    <tr>\n",
       "      <th>6</th>\n",
       "      <td>alfredhitchcock robertdonat,madeleinecarroll,g...</td>\n",
       "    </tr>\n",
       "    <tr>\n",
       "      <th>7</th>\n",
       "      <td>delmerdaves glennford,vanheflin,feliciafarr,le...</td>\n",
       "    </tr>\n",
       "    <tr>\n",
       "      <th>8</th>\n",
       "      <td>adamthomasanderegg heatherbeers,garyneilson,li...</td>\n",
       "    </tr>\n",
       "    <tr>\n",
       "      <th>9</th>\n",
       "      <td>d.w.griffith walterhuston,unamerkel,kayhammond...</td>\n",
       "    </tr>\n",
       "  </tbody>\n",
       "</table>\n",
       "</div>"
      ],
      "text/plain": [
       "                                                soup\n",
       "0  chriscolumbus loganlerman,brandont.jackson,ale...\n",
       "1  nicoleholofcener catherinekeener,amandapeet,ol...\n",
       "2  blakeedwards dudleymoore,boderek,julieandrews,...\n",
       "3  sidneylumet martinbalsam,johnfiedler,leej.cobb...\n",
       "4  richardfleischer jamesmason,kirkdouglas,paullu...\n",
       "5  rolandemmerich stevenstrait,camillabelle,cliff...\n",
       "6  alfredhitchcock robertdonat,madeleinecarroll,g...\n",
       "7  delmerdaves glennford,vanheflin,feliciafarr,le...\n",
       "8  adamthomasanderegg heatherbeers,garyneilson,li...\n",
       "9  d.w.griffith walterhuston,unamerkel,kayhammond..."
      ]
     },
     "execution_count": 26,
     "metadata": {},
     "output_type": "execute_result"
    }
   ],
   "source": [
    "movies[['soup']].head(10)"
   ]
  },
  {
   "cell_type": "code",
   "execution_count": 27,
   "id": "491e9650",
   "metadata": {},
   "outputs": [],
   "source": [
    "from sklearn.feature_extraction.text import CountVectorizer\n",
    "\n",
    "count = CountVectorizer(stop_words='english')\n",
    "count_matrix = count.fit_transform(movies['soup'])"
   ]
  },
  {
   "cell_type": "markdown",
   "id": "b98af3b7",
   "metadata": {},
   "source": [
    "info: it can be seen that there are 43567 different vocabularies from 45000 movies"
   ]
  },
  {
   "cell_type": "code",
   "execution_count": 28,
   "id": "1dbb3cdc",
   "metadata": {},
   "outputs": [
    {
     "data": {
      "text/plain": [
       "(17391, 218280)"
      ]
     },
     "execution_count": 28,
     "metadata": {},
     "output_type": "execute_result"
    }
   ],
   "source": [
    "count_matrix.shape"
   ]
  },
  {
   "cell_type": "markdown",
   "id": "f22cf507",
   "metadata": {},
   "source": [
    "info: cosine_similarity is used to measure the distance between the embeddings"
   ]
  },
  {
   "cell_type": "code",
   "execution_count": 29,
   "id": "e39f8297",
   "metadata": {},
   "outputs": [],
   "source": [
    "from sklearn.metrics.pairwise import cosine_similarity\n",
    "\n",
    "cosine_sim2 = cosine_similarity(count_matrix, count_matrix)"
   ]
  },
  {
   "cell_type": "code",
   "execution_count": 30,
   "id": "07889a06",
   "metadata": {},
   "outputs": [],
   "source": [
    "movies = movies.reset_index()\n",
    "indices = pd.Series(movies.index, index=movies['movie_title'])"
   ]
  },
  {
   "cell_type": "markdown",
   "id": "1761ea18",
   "metadata": {},
   "source": [
    "info: reusing the recommendations using the new cosine_sim2 as your second argument)"
   ]
  },
  {
   "cell_type": "code",
   "execution_count": 31,
   "id": "b44359de",
   "metadata": {},
   "outputs": [
    {
     "data": {
      "text/plain": [
       "4724         Come Undone (Cosa voglio di più)\n",
       "6898     Gianni e le donne (The Salt of Life)\n",
       "15370                                The Pool\n",
       "4365                           Chak de! India\n",
       "6044                 Every Thing Will Be Fine\n",
       "9190                 Leap Year (Año bisiesto)\n",
       "2432                          I Saw the Devil\n",
       "2204                    A Tale of Two Sisters\n",
       "13137             Six Sex Scenes and a Murder\n",
       "13702                                Stranded\n",
       "Name: movie_title, dtype: object"
      ]
     },
     "execution_count": 31,
     "metadata": {},
     "output_type": "execute_result"
    }
   ],
   "source": [
    "recommendations('The Lord of the Rings: The Fellowship of the Ring', cosine_sim2)"
   ]
  },
  {
   "cell_type": "code",
   "execution_count": null,
   "id": "07a1851c",
   "metadata": {},
   "outputs": [],
   "source": []
  }
 ],
 "metadata": {
  "kernelspec": {
   "display_name": "Python 3 (ipykernel)",
   "language": "python",
   "name": "python3"
  },
  "language_info": {
   "codemirror_mode": {
    "name": "ipython",
    "version": 3
   },
   "file_extension": ".py",
   "mimetype": "text/x-python",
   "name": "python",
   "nbconvert_exporter": "python",
   "pygments_lexer": "ipython3",
   "version": "3.9.7"
  }
 },
 "nbformat": 4,
 "nbformat_minor": 5
}
